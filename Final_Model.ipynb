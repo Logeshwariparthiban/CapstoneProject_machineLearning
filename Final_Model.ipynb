{
 "cells": [
  {
   "cell_type": "code",
   "execution_count": 1,
   "id": "12db99c9-a6fc-4973-864b-1cbadb31a76d",
   "metadata": {},
   "outputs": [],
   "source": [
    "import pickle\n",
    "import pandas as pd"
   ]
  },
  {
   "cell_type": "code",
   "execution_count": 2,
   "id": "61a7388a-0a5c-4523-beb9-91c9e6505767",
   "metadata": {},
   "outputs": [],
   "source": [
    "# Example of predicting new data (ensure correct format)\n",
    "new_data = pd.DataFrame([[7420, 4.0, 3.0, 2.0, 2.0, 1, 0, 0, 0, 1, 0, 0]], \n",
    "                        columns=['area', 'bedrooms', 'bathrooms', 'stories', 'mainroad_yes', 'guestroom_yes', \n",
    "                                 'basement_yes', 'hotwaterheating_yes', 'airconditioning_yes', 'prefarea_yes', \n",
    "                                 'furnishingstatus_semi-furnished', 'furnishingstatus_unfurnished'])"
   ]
  },
  {
   "cell_type": "code",
   "execution_count": 3,
   "id": "705e82c3-c3c6-41f7-91eb-1614dd412ce2",
   "metadata": {},
   "outputs": [
    {
     "name": "stdout",
     "output_type": "stream",
     "text": [
      "Predicted Price: 7204527.26345202\n"
     ]
    }
   ],
   "source": [
    "# Load the saved model from the file\n",
    "loaded_model = pickle.load(open(\"Finilised_Model.sav\", 'rb'))\n",
    "\n",
    "# Ensure the data passed to the model has the same number of features as the training data (13 features)\n",
    "result = loaded_model.predict(new_data)\n",
    "\n",
    "print(f'Predicted Price: {result[0]}')"
   ]
  },
  {
   "cell_type": "code",
   "execution_count": null,
   "id": "89f98d98-2385-4369-8df2-66c4f8320980",
   "metadata": {},
   "outputs": [],
   "source": []
  }
 ],
 "metadata": {
  "kernelspec": {
   "display_name": "Python 3 (ipykernel)",
   "language": "python",
   "name": "python3"
  },
  "language_info": {
   "codemirror_mode": {
    "name": "ipython",
    "version": 3
   },
   "file_extension": ".py",
   "mimetype": "text/x-python",
   "name": "python",
   "nbconvert_exporter": "python",
   "pygments_lexer": "ipython3",
   "version": "3.12.4"
  }
 },
 "nbformat": 4,
 "nbformat_minor": 5
}
